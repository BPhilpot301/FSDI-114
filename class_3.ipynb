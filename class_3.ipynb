{
 "cells": [
  {
   "cell_type": "markdown",
   "id": "3278212a",
   "metadata": {},
   "source": [
    "Class 3 - OOP Basics and DSA(notes and linked list)\n",
    "1. OOP - Object Oriented Programming\n",
    "2.Python is an object-oriented language, allowing you to structure your code using classes and objects for better organization and reusability.\n",
    "\n",
    "### Advantages:\n",
    "-Provides a clear stucture to programs\n",
    "-Makes code easier to maintain, reuse and debug\n",
    "-Helps keep you code DRY (Do not Repeat Yourself)\n",
    "-Allows to build reusable applications with less code.\n"
   ]
  },
  {
   "cell_type": "markdown",
   "id": "681d2cc2",
   "metadata": {},
   "source": [
    "### Classes and Objects(Core Elements)\n",
    "\n",
    "A class defines what an object should look like and an object is created based on that class.\n",
    "Example:\n",
    "Class -> Fruits\n",
    "Object -> Apple, Banana, Mango\n",
    "or\n",
    "Class -> Car\n",
    "Object -> Audi, Tesla, Toyota\n",
    "\n",
    "### The four pillars of OOP\n",
    "-Encapsulation\n",
    "-Abstraction\n",
    "-Inheritance\n",
    "-Polymorphism"
   ]
  },
  {
   "cell_type": "markdown",
   "id": "b8761441",
   "metadata": {},
   "source": [
    "Read about everything about!"
   ]
  },
  {
   "cell_type": "code",
   "execution_count": 8,
   "id": "df27b232",
   "metadata": {},
   "outputs": [
    {
     "name": "stdout",
     "output_type": "stream",
     "text": [
      "5\n",
      "5\n",
      "5\n"
     ]
    }
   ],
   "source": [
    "# Syntax\n",
    "# Reserved keyword 'class' + name of the class\n",
    "# The name of the class should follow the Pascal Case notation (Ex. MyClass)\n",
    "\n",
    "# Constructor - Is always executed when the class is being executed\n",
    "class MyClass:\n",
    "    x = 5\n",
    "\n",
    "p1 = MyClass()\n",
    "p2 = MyClass()\n",
    "p3 = MyClass()\n",
    "print(p1.x)\n",
    "print(p2.x)\n",
    "print(p3.x)"
   ]
  },
  {
   "cell_type": "code",
   "execution_count": 19,
   "id": "636a78e1",
   "metadata": {},
   "outputs": [
    {
     "name": "stdout",
     "output_type": "stream",
     "text": [
      "Britney 36\n",
      "Andrea 33\n",
      "Hello this worked! My name is Britney\n",
      "Britney 34\n"
     ]
    }
   ],
   "source": [
    "class Person:\n",
    "    #Constructor - Executes when initializing an object\n",
    "    def __init__(self, name, age):\n",
    "        self.name = name\n",
    "        self.age = age\n",
    "\n",
    "    def my_func(self):\n",
    "        print(\"Hello this worked! My name is \" + self.name)\n",
    "    #To string - returns the calues of the object instead of the memory location\n",
    "    def __str__(self):\n",
    "        return f\"{self.name} {self.age}\"\n",
    "\n",
    "p1 = Person(\"Britney\", 36)\n",
    "p2 = Person(\"Andrea\", 33)\n",
    "print(p1)\n",
    "print(p2)\n",
    "\n",
    "p1.my_func()\n",
    "p1.age = 34\n",
    "print(p1)"
   ]
  },
  {
   "cell_type": "markdown",
   "id": "591d8c4e",
   "metadata": {},
   "source": [
    "# Data Structures and Algorithms (DSA)\n",
    "\n",
    "DSA is about how data can be storeed in different structures(accessing, searching, inserting, and deleting)\n",
    "\n",
    "Algorithms is about how to solve different problems, often searching through and manipulating data structures\n",
    "\n",
    "### Nodes and SLL(single linked-lists)\n",
    "\n",
    "Differences between arrays and linked listes:\n",
    "1.We dont need to preallocate space\n",
    "2.Insertion is easy"
   ]
  },
  {
   "cell_type": "code",
   "execution_count": 22,
   "id": "2436a3b8",
   "metadata": {},
   "outputs": [
    {
     "name": "stdout",
     "output_type": "stream",
     "text": [
      "[298, 305, 320, 301, 292]\n",
      "[298, 284, 305, 320, 301, 292]\n"
     ]
    }
   ],
   "source": [
    "#Arrays\n",
    "\n",
    "stock_prices = [298,305,320,301,292]\n",
    "print(stock_prices)\n",
    "\"\"\"\n",
    "[298] -> 00x0500 -> 0\n",
    "[305] -> 00x0504 -> 1\n",
    "[320] -> 0x00508 -> 2\n",
    "[301] -> 0x0050A -> 3\n",
    "[292] -> 0x0050F -> 4\n",
    "\"\"\"\n",
    "stock_prices.insert(1,284)\n",
    "\"\"\"\n",
    "Insertion = 0(n)\n",
    "[298] -> 00x0500 -> 0\n",
    "[284] -> 00x0504 -> 1\n",
    "[305] -> 0x00508 -> 2\n",
    "[320] -> 0x0050A -> 3\n",
    "[301] -> 0x0050F -> 4\n",
    "[292] -> 0x00510 -> 5\n",
    "\"\"\"\n",
    "\n",
    "print(stock_prices)"
   ]
  },
  {
   "cell_type": "code",
   "execution_count": 2,
   "id": "49b6cee7",
   "metadata": {},
   "outputs": [
    {
     "ename": "KeyboardInterrupt",
     "evalue": "",
     "output_type": "error",
     "traceback": [
      "\u001b[31m---------------------------------------------------------------------------\u001b[39m",
      "\u001b[31mKeyboardInterrupt\u001b[39m                         Traceback (most recent call last)",
      "\u001b[36mCell\u001b[39m\u001b[36m \u001b[39m\u001b[32mIn[2]\u001b[39m\u001b[32m, line 35\u001b[39m\n\u001b[32m     32\u001b[39m         \u001b[38;5;28mself\u001b[39m.head = node\n\u001b[32m     34\u001b[39m linked_list = LinkedList()\n\u001b[32m---> \u001b[39m\u001b[32m35\u001b[39m \u001b[43mlinked_list\u001b[49m.insert_at_beginning(\u001b[32m298\u001b[39m)\n\u001b[32m     36\u001b[39m \u001b[38;5;28mprint\u001b[39m(linked_list)\n",
      "\u001b[36mFile \u001b[39m\u001b[32m<stringsource>:69\u001b[39m, in \u001b[36mcfunc.to_py.__Pyx_CFunc_b0409f__29_pydevd_sys_monitoring_cython_object__lParen__etc_to_py_4code_4line.wrap\u001b[39m\u001b[34m()\u001b[39m\n",
      "\u001b[36mFile \u001b[39m\u001b[32m_pydevd_sys_monitoring\\\\_pydevd_sys_monitoring_cython.pyx:1481\u001b[39m, in \u001b[36m_pydevd_sys_monitoring_cython._line_event\u001b[39m\u001b[34m()\u001b[39m\n",
      "\u001b[36mFile \u001b[39m\u001b[32m_pydevd_sys_monitoring\\\\_pydevd_sys_monitoring_cython.pyx:1523\u001b[39m, in \u001b[36m_pydevd_sys_monitoring_cython._internal_line_event\u001b[39m\u001b[34m()\u001b[39m\n",
      "\u001b[36mFile \u001b[39m\u001b[32m_pydevd_sys_monitoring\\\\_pydevd_sys_monitoring_cython.pyx:1324\u001b[39m, in \u001b[36m_pydevd_sys_monitoring_cython._stop_on_breakpoint\u001b[39m\u001b[34m()\u001b[39m\n",
      "\u001b[36mFile \u001b[39m\u001b[32m_pydevd_sys_monitoring\\\\_pydevd_sys_monitoring_cython.pyx:1961\u001b[39m, in \u001b[36m_pydevd_sys_monitoring_cython._do_wait_suspend\u001b[39m\u001b[34m()\u001b[39m\n",
      "\u001b[36mFile \u001b[39m\u001b[32m~\\AppData\\Roaming\\Python\\Python313\\site-packages\\debugpy\\_vendored\\pydevd\\pydevd.py:2188\u001b[39m, in \u001b[36mPyDB.do_wait_suspend\u001b[39m\u001b[34m(self, thread, frame, event, arg, exception_type)\u001b[39m\n\u001b[32m   2185\u001b[39m             from_this_thread.append(frame_custom_thread_id)\n\u001b[32m   2187\u001b[39m     \u001b[38;5;28;01mwith\u001b[39;00m \u001b[38;5;28mself\u001b[39m._threads_suspended_single_notification.notify_thread_suspended(thread_id, thread, stop_reason):\n\u001b[32m-> \u001b[39m\u001b[32m2188\u001b[39m         keep_suspended = \u001b[38;5;28;43mself\u001b[39;49m\u001b[43m.\u001b[49m\u001b[43m_do_wait_suspend\u001b[49m\u001b[43m(\u001b[49m\u001b[43mthread\u001b[49m\u001b[43m,\u001b[49m\u001b[43m \u001b[49m\u001b[43mframe\u001b[49m\u001b[43m,\u001b[49m\u001b[43m \u001b[49m\u001b[43mevent\u001b[49m\u001b[43m,\u001b[49m\u001b[43m \u001b[49m\u001b[43marg\u001b[49m\u001b[43m,\u001b[49m\u001b[43m \u001b[49m\u001b[43mtrace_suspend_type\u001b[49m\u001b[43m,\u001b[49m\u001b[43m \u001b[49m\u001b[43mfrom_this_thread\u001b[49m\u001b[43m,\u001b[49m\u001b[43m \u001b[49m\u001b[43mframes_tracker\u001b[49m\u001b[43m)\u001b[49m\n\u001b[32m   2190\u001b[39m frames_list = \u001b[38;5;28;01mNone\u001b[39;00m\n\u001b[32m   2192\u001b[39m \u001b[38;5;28;01mif\u001b[39;00m keep_suspended:\n\u001b[32m   2193\u001b[39m     \u001b[38;5;66;03m# This means that we should pause again after a set next statement.\u001b[39;00m\n",
      "\u001b[36mFile \u001b[39m\u001b[32m~\\AppData\\Roaming\\Python\\Python313\\site-packages\\debugpy\\_vendored\\pydevd\\pydevd.py:2257\u001b[39m, in \u001b[36mPyDB._do_wait_suspend\u001b[39m\u001b[34m(self, thread, frame, event, arg, trace_suspend_type, from_this_thread, frames_tracker)\u001b[39m\n\u001b[32m   2254\u001b[39m                 queue.put(internal_cmd)\n\u001b[32m   2255\u001b[39m                 wait_timeout = TIMEOUT_FAST\n\u001b[32m-> \u001b[39m\u001b[32m2257\u001b[39m         \u001b[43mnotify_event\u001b[49m\u001b[43m.\u001b[49m\u001b[43mwait\u001b[49m\u001b[43m(\u001b[49m\u001b[43mwait_timeout\u001b[49m\u001b[43m)\u001b[49m\n\u001b[32m   2258\u001b[39m         notify_event.clear()\n\u001b[32m   2260\u001b[39m \u001b[38;5;28;01mfinally\u001b[39;00m:\n",
      "\u001b[36mFile \u001b[39m\u001b[32mc:\\Python313\\Lib\\threading.py:659\u001b[39m, in \u001b[36mEvent.wait\u001b[39m\u001b[34m(self, timeout)\u001b[39m\n\u001b[32m    657\u001b[39m signaled = \u001b[38;5;28mself\u001b[39m._flag\n\u001b[32m    658\u001b[39m \u001b[38;5;28;01mif\u001b[39;00m \u001b[38;5;129;01mnot\u001b[39;00m signaled:\n\u001b[32m--> \u001b[39m\u001b[32m659\u001b[39m     signaled = \u001b[38;5;28;43mself\u001b[39;49m\u001b[43m.\u001b[49m\u001b[43m_cond\u001b[49m\u001b[43m.\u001b[49m\u001b[43mwait\u001b[49m\u001b[43m(\u001b[49m\u001b[43mtimeout\u001b[49m\u001b[43m)\u001b[49m\n\u001b[32m    660\u001b[39m \u001b[38;5;28;01mreturn\u001b[39;00m signaled\n",
      "\u001b[36mFile \u001b[39m\u001b[32mc:\\Python313\\Lib\\threading.py:363\u001b[39m, in \u001b[36mCondition.wait\u001b[39m\u001b[34m(self, timeout)\u001b[39m\n\u001b[32m    361\u001b[39m \u001b[38;5;28;01melse\u001b[39;00m:\n\u001b[32m    362\u001b[39m     \u001b[38;5;28;01mif\u001b[39;00m timeout > \u001b[32m0\u001b[39m:\n\u001b[32m--> \u001b[39m\u001b[32m363\u001b[39m         gotit = \u001b[43mwaiter\u001b[49m\u001b[43m.\u001b[49m\u001b[43macquire\u001b[49m\u001b[43m(\u001b[49m\u001b[38;5;28;43;01mTrue\u001b[39;49;00m\u001b[43m,\u001b[49m\u001b[43m \u001b[49m\u001b[43mtimeout\u001b[49m\u001b[43m)\u001b[49m\n\u001b[32m    364\u001b[39m     \u001b[38;5;28;01melse\u001b[39;00m:\n\u001b[32m    365\u001b[39m         gotit = waiter.acquire(\u001b[38;5;28;01mFalse\u001b[39;00m)\n",
      "\u001b[31mKeyboardInterrupt\u001b[39m: "
     ]
    }
   ],
   "source": [
    "# Sinle linked-lists\n",
    "\n",
    "# Node -> [data | link]\n",
    "\"\"\"\n",
    "0x00500           0x00A1            0x00C5            0x00D7            0x00C0  \n",
    "[298 | 0x00A1] -> [305 | 0x00C5] -> [320 | 0x00D7] -> [301 | 0x00C0] -> [292 | null]\n",
    "\n",
    "Inserting element 284 at position 1\n",
    "\n",
    "0x00500           0xC702            0x00A1            0x00C5            0x00D7            0x00C0 \n",
    "[298 | 0xC702] -> [284 | 0x00A1] -> [305 | 0x00C5] -> [320 | 0x00D7] -> [301 | 0x00C0] -> [292 | null]\n",
    "|0                |1                |2                |3                |4          \n",
    "\n",
    "Insert element at begining = 0(1)\n",
    "Delete element at begining = 0(1)\n",
    "insert/Delete element at the end = 0(n)\n",
    "Linked List Traversal  = 0(n)\n",
    "Accessing element by value = 0(n)\n",
    "\"\"\"\n",
    "\n",
    "class Node:\n",
    "    def __init__(self,data,next):\n",
    "        self.data = data\n",
    "        self.next = next\n",
    "\n",
    "class LinkedList:\n",
    "    def __init__(self):\n",
    "        self.head = None\n",
    "\n",
    "    def insert_at_beginning(self,data):\n",
    "        node = Node(data, self.head)\n",
    "        self.head = node\n",
    "\n",
    "linked_list = LinkedList()\n",
    "linked_list.insert_at_beginning(298)\n",
    "print(linked_list)\n",
    "\n",
    "\n"
   ]
  }
 ],
 "metadata": {
  "kernelspec": {
   "display_name": "Python 3",
   "language": "python",
   "name": "python3"
  },
  "language_info": {
   "codemirror_mode": {
    "name": "ipython",
    "version": 3
   },
   "file_extension": ".py",
   "mimetype": "text/x-python",
   "name": "python",
   "nbconvert_exporter": "python",
   "pygments_lexer": "ipython3",
   "version": "3.13.7"
  }
 },
 "nbformat": 4,
 "nbformat_minor": 5
}
