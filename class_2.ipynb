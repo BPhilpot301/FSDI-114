{
 "cells": [
  {
   "cell_type": "code",
   "execution_count": 1,
   "id": "6da43520",
   "metadata": {},
   "outputs": [
    {
     "data": {
      "text/plain": [
       "True"
      ]
     },
     "execution_count": 1,
     "metadata": {},
     "output_type": "execute_result"
    }
   ],
   "source": [
    "def check_anagrams(w1,w2):\n",
    "    w1 = w1.replace(\" \",\"\").lower()\n",
    "    w2 = w2.replace(\" \",\"\").lower()\n",
    "    dict1 = {}\n",
    "    dict2 = {}\n",
    "\n",
    "    if len(w1) == len(w2):\n",
    "        for letter in w1:\n",
    "            if dict1.get(letter) == None:\n",
    "                dict1[letter] = 1\n",
    "            else:\n",
    "                dict1[letter] += 1\n",
    "        for letter in w2:\n",
    "            if dict2.get(letter) == None:\n",
    "                dict2[letter] = 1\n",
    "            else:\n",
    "                dict2[letter] += 1\n",
    "        return dict1 == dict2\n",
    "    else:\n",
    "        return False\n",
    "\n",
    "check_anagrams(\"rats\",\"star\")\n"
   ]
  }
 ],
 "metadata": {
  "kernelspec": {
   "display_name": "Python 3",
   "language": "python",
   "name": "python3"
  },
  "language_info": {
   "codemirror_mode": {
    "name": "ipython",
    "version": 3
   },
   "file_extension": ".py",
   "mimetype": "text/x-python",
   "name": "python",
   "nbconvert_exporter": "python",
   "pygments_lexer": "ipython3",
   "version": "3.13.7"
  }
 },
 "nbformat": 4,
 "nbformat_minor": 5
}
